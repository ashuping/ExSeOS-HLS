{
 "cells": [
  {
   "cell_type": "code",
   "execution_count": 1,
   "metadata": {},
   "outputs": [],
   "source": [
    "# from typing import TypeVar, Generic, Callable, Union\n",
    "# from abc import ABC, abstractmethod\n",
    "\n",
    "# A = TypeVar('A')\n",
    "# B = TypeVar('B')\n",
    "# C = TypeVar('C')"
   ]
  },
  {
   "cell_type": "code",
   "execution_count": 2,
   "metadata": {},
   "outputs": [],
   "source": [
    "# class Either[A, B](ABC):\n",
    "\n",
    "#     @property\n",
    "#     @abstractmethod\n",
    "#     def val(self) -> B: ... # Return the inner value of a Right. Raises an exception if called on a Left.\n",
    "\n",
    "#     @property\n",
    "#     @abstractmethod\n",
    "#     def lval(self) -> A: ... # Return the inner value of a Left. Raises an exception if called on a Right.\n",
    "\n",
    "#     @abstractmethod\n",
    "#     def map(self, f: Callable[[B], C]) -> 'Either[A, C]': ...\n",
    "\n",
    "#     @abstractmethod\n",
    "#     def flat_map(self, f: Callable[[B], 'Either[A, C]']) -> 'Either[A, C]': ...\n",
    "\n",
    "# class Left[A](Either):\n",
    "#     def __init__(self, val: A):\n",
    "#         self.__val = val\n",
    "    \n",
    "#     @property\n",
    "#     def is_right(self) -> bool:\n",
    "#         return False\n",
    "    \n",
    "#     @property\n",
    "#     def val(self) -> B:\n",
    "#         raise TypeError('Can\\'t return rval from Left()!')\n",
    "    \n",
    "#     @property\n",
    "#     def lval(self) -> A:\n",
    "#         return self.__val\n",
    "\n",
    "#     def map(self, f: Callable[[B], C]) -> Either[A, C]:\n",
    "#         return self\n",
    "    \n",
    "#     def flat_map(self, f: Callable[[B], Either[A, C]]) -> Either[A, C]: \n",
    "#         return self\n",
    "    \n",
    "#     def __str__(self) -> str:\n",
    "#         return f'Left({self.__val})'\n",
    "\n",
    "# class Right[B](Either):\n",
    "#     def __init__(self, val: B):\n",
    "#         self.__val = val\n",
    "\n",
    "#     @property\n",
    "#     def is_right(self) -> bool:\n",
    "#         return True\n",
    "    \n",
    "#     @property\n",
    "#     def val(self) -> B:\n",
    "#         return self.__val\n",
    "    \n",
    "#     @property\n",
    "#     def lval(self) -> A:\n",
    "#         raise TypeError('Can\\'t return lval from Right()!')\n",
    "\n",
    "#     def map(self, f: Callable[[B], C]) -> Either[A, C]:\n",
    "#         return Right(f(self.__val))\n",
    "    \n",
    "#     def flat_map(self, f: Callable[[B], Either[A, C]]) -> Either[A, C]: \n",
    "#         return f(self.__val)\n",
    "    \n",
    "#     def __str__(self) -> str:\n",
    "#         return f'Right({self.__val})'"
   ]
  },
  {
   "cell_type": "code",
   "execution_count": 3,
   "metadata": {},
   "outputs": [],
   "source": [
    "from modules.types.Either import Either, Left, Right"
   ]
  },
  {
   "cell_type": "code",
   "execution_count": 4,
   "metadata": {},
   "outputs": [],
   "source": [
    "def parse_int(s: str) -> Either[Exception, int]:\n",
    "    try:\n",
    "        return Right(int(s))\n",
    "    except Exception as e:\n",
    "        return Left(e)"
   ]
  },
  {
   "cell_type": "code",
   "execution_count": 5,
   "metadata": {},
   "outputs": [],
   "source": [
    "def divide(x: int, y: int) -> Either[Exception, int]:\n",
    "    if y == 0:\n",
    "        return Left(ArithmeticError(f'Tried to divide {x} by zero!'))\n",
    "    else:\n",
    "        return Right(x // y)"
   ]
  },
  {
   "cell_type": "code",
   "execution_count": 6,
   "metadata": {},
   "outputs": [],
   "source": [
    "def do_thing(s: str, v: int = 2):\n",
    "    print(\n",
    "        parse_int(s)\n",
    "        .map(lambda x: x**2)\n",
    "        .flat_map(lambda x: divide(x, v))\n",
    "        .map(lambda x: f'Wow, it\\'s {x}')\n",
    "    )"
   ]
  },
  {
   "cell_type": "code",
   "execution_count": 7,
   "metadata": {},
   "outputs": [
    {
     "name": "stdout",
     "output_type": "stream",
     "text": [
      "Right[str](Wow, it's 8)\n",
      "Left[ValueError](invalid literal for int() with base 10: 'potato')\n",
      "Left[ArithmeticError](Tried to divide 729 by zero!)\n"
     ]
    }
   ],
   "source": [
    "do_thing('4')\n",
    "do_thing('potato')\n",
    "do_thing('27', 0)"
   ]
  },
  {
   "cell_type": "code",
   "execution_count": 8,
   "metadata": {},
   "outputs": [
    {
     "name": "stdout",
     "output_type": "stream",
     "text": [
      "Right\n",
      "NoneType\n"
     ]
    }
   ],
   "source": [
    "print(parse_int('4').__class__.__name__)\n",
    "print(None.__class__.__name__)"
   ]
  },
  {
   "cell_type": "code",
   "execution_count": 9,
   "metadata": {},
   "outputs": [],
   "source": [
    "from modules.types.Result import Result, Okay, Warning, Error\n",
    "\n"
   ]
  },
  {
   "cell_type": "code",
   "execution_count": 10,
   "metadata": {},
   "outputs": [],
   "source": [
    "def parse_int_res(s: str) -> Result[Exception, Exception, int]:\n",
    "    try:\n",
    "        return Okay(int(s))\n",
    "    except Exception as e:\n",
    "        return Error([e])"
   ]
  },
  {
   "cell_type": "code",
   "execution_count": 16,
   "metadata": {},
   "outputs": [],
   "source": [
    "def optional_div(x: int) -> Result[Exception, Exception, float]:\n",
    "    try:\n",
    "        print(f'1/{x} is {1/x}!')\n",
    "        return Okay(x)\n",
    "    except Exception as e:\n",
    "        return Warning([\n",
    "            ArithmeticError(f'Can\\'t calculate 1/{x}')\n",
    "        ], x)"
   ]
  },
  {
   "cell_type": "code",
   "execution_count": 17,
   "metadata": {},
   "outputs": [],
   "source": [
    "def cool_op2(s: str):\n",
    "    x = parse_int_res(s) \\\n",
    "        .flat_map(optional_div) \\\n",
    "        .map(lambda x: x**2) \\\n",
    "        .flat_map(optional_div)\n",
    "    \n",
    "    print(x)"
   ]
  },
  {
   "cell_type": "code",
   "execution_count": 19,
   "metadata": {},
   "outputs": [
    {
     "name": "stdout",
     "output_type": "stream",
     "text": [
      "1/12 is 0.08333333333333333!\n",
      "1/144 is 0.006944444444444444!\n",
      "Okay[int](144)\n",
      "Error with no warnings and the following errors:\n",
      "    > [ValueError] invalid literal for int() with base 10: 'potato'\n",
      "\n",
      "Warning[int](0) with the following warnings:\n",
      "    > [ArithmeticError] Can't calculate 1/0\n",
      "    > [ArithmeticError] Can't calculate 1/0\n",
      "\n"
     ]
    }
   ],
   "source": [
    "cool_op2('12')\n",
    "print('\\n================')\n",
    "cool_op2('potato')\n",
    "print('\\n================')\n",
    "cool_op2('0')"
   ]
  },
  {
   "cell_type": "code",
   "execution_count": 14,
   "metadata": {},
   "outputs": [
    {
     "name": "stdout",
     "output_type": "stream",
     "text": [
      "Warning[int](2) with the following warnings:\n",
      "    > [ArithmeticError] Test\n",
      "    > [ArithmeticError] Test\n",
      "\n"
     ]
    }
   ],
   "source": [
    "print(\n",
    "    Warning([\n",
    "        ArithmeticError('Test')\n",
    "    ], 1) >> Warning([\n",
    "        ArithmeticError('Test')\n",
    "    ], 2)\n",
    ")"
   ]
  },
  {
   "cell_type": "code",
   "execution_count": 15,
   "metadata": {},
   "outputs": [
    {
     "data": {
      "text/plain": [
       "[ArithmeticError('Test'), ArithmeticError('Test')]"
      ]
     },
     "execution_count": 15,
     "metadata": {},
     "output_type": "execute_result"
    }
   ],
   "source": [
    "([ArithmeticError('Test')] if True else []) \\\n",
    "    + ([ArithmeticError('Test')] if True else [])\n"
   ]
  }
 ],
 "metadata": {
  "kernelspec": {
   "display_name": "chicory-py312",
   "language": "python",
   "name": "python3"
  },
  "language_info": {
   "codemirror_mode": {
    "name": "ipython",
    "version": 3
   },
   "file_extension": ".py",
   "mimetype": "text/x-python",
   "name": "python",
   "nbconvert_exporter": "python",
   "pygments_lexer": "ipython3",
   "version": "3.12.4"
  }
 },
 "nbformat": 4,
 "nbformat_minor": 2
}
